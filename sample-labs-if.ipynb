{
 "cells": [
  {
   "cell_type": "markdown",
   "metadata": {},
   "source": [
    "# DTF (Different Time Zones)"
   ]
  },
  {
   "cell_type": "code",
   "execution_count": 6,
   "metadata": {},
   "outputs": [
    {
     "name": "stdout",
     "output_type": "stream",
     "text": [
      "See you on the next Pear Event!\n"
     ]
    }
   ],
   "source": [
    "# Fully GPT\n",
    "from datetime import datetime, timedelta\n",
    "\n",
    "def parse_time(time_str, offset):\n",
    "    \"\"\"Parse the time string and adjust it to GMT+0 using the offset.\"\"\"\n",
    "    time = datetime.strptime(time_str, \"%H:%M:%S\")\n",
    "    # Adjust to GMT+0 by subtracting the offset\n",
    "    time_gmt = time - timedelta(hours=offset)\n",
    "    return time_gmt\n",
    "\n",
    "def calculate_remaining_time(time1, time2):\n",
    "    \"\"\"Calculate the remaining time from time2 to time1.\"\"\"\n",
    "    if time2 > time1:\n",
    "        print(\"See you on the next Pear Event!\")\n",
    "    else:\n",
    "        # Calculate the difference\n",
    "        remaining_time = time1 - time2\n",
    "        # Format the difference as HH:MM:SS\n",
    "        hours, remainder = divmod(remaining_time.seconds, 3600)\n",
    "        minutes, seconds = divmod(remainder, 60)\n",
    "        print(f\"{hours:02}:{minutes:02}:{seconds:02}\")\n",
    "\n",
    "def main():\n",
    "    # Input times\n",
    "    input1 = input(\"Enter the time in GMT+2 (HH:MM:SS): \")\n",
    "    input2 = input(\"Enter the time in GMT+7 (HH:MM:SS): \")\n",
    "    \n",
    "    # Convert times to GMT+0\n",
    "    time1_gmt = parse_time(input1, 2)  # GMT+2 to GMT+0\n",
    "    time2_gmt = parse_time(input2, 7)  # GMT+7 to GMT+0\n",
    "\n",
    "    # Calculate and print the remaining time\n",
    "    calculate_remaining_time(time1_gmt, time2_gmt)\n",
    "\n",
    "# Run the main function\n",
    "main()\n"
   ]
  },
  {
   "cell_type": "markdown",
   "metadata": {},
   "source": [
    "# GP (Genesis and Pillars)"
   ]
  },
  {
   "cell_type": "code",
   "execution_count": 6,
   "metadata": {},
   "outputs": [
    {
     "name": "stdout",
     "output_type": "stream",
     "text": [
      "NO HE CAN'T\n"
     ]
    }
   ],
   "source": [
    "# GPT, but i need to instruction to give more descriptive variable name\n",
    "def can_clear_challange(max_jump, distances):\n",
    "  for distance in distances:\n",
    "    if distance > max_jump:\n",
    "      return False\n",
    "  return True\n",
    "\n",
    "user_input = list(map(int, input(\"Enter max jump, the distance of A to Bee, Bee to C, C to D, and D to E with space as a delimiter: \").split()))\n",
    "\n",
    "max_jump = user_input[0]\n",
    "distances = user_input[1:]\n",
    "\n",
    "if can_clear_challange(max_jump,distances):\n",
    "  print(\"YES HE CAN\")\n",
    "else:\n",
    "  print(\"NO HE CAN'T\")"
   ]
  },
  {
   "cell_type": "markdown",
   "metadata": {},
   "source": [
    "# LSM2 (Last Man Standing 2)"
   ]
  },
  {
   "cell_type": "code",
   "execution_count": 6,
   "metadata": {},
   "outputs": [
    {
     "name": "stdout",
     "output_type": "stream",
     "text": [
      "Lili\n"
     ]
    }
   ],
   "source": [
    "# GPT, but i need to instruction to give more descriptive variable name\n",
    "def determine_winner(total_balls, starting_player):\n",
    "    # win_possibility[i] will be True if the player whose turn it is will win with i balls left\n",
    "    win_possibility = [False] * (total_balls + 1)\n",
    "    \n",
    "    # Base cases\n",
    "    win_possibility[1] = True  # If there's 1 ball left, the current player wins\n",
    "    if total_balls >= 2:\n",
    "        win_possibility[2] = True  # If there are 2 balls left, the current player wins\n",
    "    if total_balls >= 5:\n",
    "        win_possibility[5] = True  # If there are 5 balls left, the current player wins\n",
    "    \n",
    "    # Fill the win_possibility array\n",
    "    for balls_left in range(3, total_balls + 1):\n",
    "        # Check if the current player can make the opponent lose in the next move\n",
    "        if balls_left - 1 >= 0 and not win_possibility[balls_left - 1]:\n",
    "            win_possibility[balls_left] = True\n",
    "        elif balls_left - 2 >= 0 and not win_possibility[balls_left - 2]:\n",
    "            win_possibility[balls_left] = True\n",
    "        elif balls_left - 5 >= 0 and not win_possibility[balls_left - 5]:\n",
    "            win_possibility[balls_left] = True\n",
    "    \n",
    "    # Determine the winner based on who starts first and the value of win_possibility[total_balls]\n",
    "    if (starting_player == 1 and win_possibility[total_balls]) or (starting_player == 2 and not win_possibility[total_balls]):\n",
    "        return \"Lala\"\n",
    "    else:\n",
    "        return \"Lili\"\n",
    "\n",
    "# Input: total number of balls (N) and starting player (C: 1 for Lala, 2 for Lili)\n",
    "total_balls, starting_player = map(int, input().split())\n",
    "\n",
    "# Output the name of the Last Man Standing\n",
    "print(determine_winner(total_balls, starting_player))\n"
   ]
  },
  {
   "cell_type": "markdown",
   "metadata": {},
   "source": [
    "# MA (Mulyosari Avenue)"
   ]
  },
  {
   "cell_type": "code",
   "execution_count": 17,
   "metadata": {},
   "outputs": [
    {
     "name": "stdout",
     "output_type": "stream",
     "text": [
      "NO!\n",
      "4\n"
     ]
    }
   ],
   "source": [
    "# GPT not counting my car, so i need to adjust the logic to include my car in the calculation\n",
    "\n",
    "def can_pass_traffic_light(cars_in_front, cars_behind, time_elapsed):\n",
    "    # Traffic light cycle durations\n",
    "    red_light_duration = 20\n",
    "    yellow_light_duration = 5\n",
    "    green_light_duration = 60\n",
    "    cycle_duration = red_light_duration + yellow_light_duration + green_light_duration\n",
    "    \n",
    "    # Calculate the number of cars that can pass in one full green light cycle\n",
    "    cars_passed_per_cycle = green_light_duration // 5\n",
    "    \n",
    "    # Calculate the number of full cycles that fit into the given time\n",
    "    full_cycles = time_elapsed // cycle_duration\n",
    "    remaining_time_after_last_cycle = time_elapsed % cycle_duration\n",
    "    \n",
    "    # Total cars that can pass in full cycles\n",
    "    total_cars_passed = full_cycles * cars_passed_per_cycle\n",
    "    \n",
    "    # Check the remaining time after the last full cycle\n",
    "    if remaining_time_after_last_cycle > red_light_duration + yellow_light_duration:\n",
    "        # Remaining time is during the green light\n",
    "        additional_cars_passed = remaining_time_after_last_cycle // 5\n",
    "        total_cars_passed += additional_cars_passed\n",
    "    \n",
    "    # Determine if the cars in front can pass the traffic light\n",
    "    if cars_in_front + 1 <= total_cars_passed:  # + 1 for the my car\n",
    "        print(\"YES!\")\n",
    "        remaining_cars = max(0, cars_in_front + cars_behind - total_cars_passed)\n",
    "    else:\n",
    "        print(\"NO!\")\n",
    "        remaining_cars = cars_in_front + cars_behind + 1 - total_cars_passed # + 1 for the my car\n",
    "    \n",
    "    # Print the number of cars left behind\n",
    "    print(remaining_cars)\n",
    "\n",
    "# Input reading\n",
    "cars_in_front, cars_behind, time_elapsed = map(int, input().split())\n",
    "can_pass_traffic_light(cars_in_front, cars_behind, time_elapsed)\n"
   ]
  },
  {
   "cell_type": "markdown",
   "metadata": {},
   "source": [
    "# STN (Sever The Numbers)"
   ]
  },
  {
   "cell_type": "code",
   "execution_count": 19,
   "metadata": {},
   "outputs": [
    {
     "name": "stdout",
     "output_type": "stream",
     "text": [
      "UNITE\n"
     ]
    }
   ],
   "source": [
    "# No GPT\n",
    "\n",
    "input_number = input(\"Enter the number: \")\n",
    "\n",
    "if \"4\" in input_number:\n",
    "  print(\"SEVER\")\n",
    "else:\n",
    "  print(\"UNITE\")"
   ]
  },
  {
   "cell_type": "markdown",
   "metadata": {},
   "source": [
    "# TPB (The Prime Beginning)"
   ]
  },
  {
   "cell_type": "code",
   "execution_count": 2,
   "metadata": {},
   "outputs": [
    {
     "name": "stdout",
     "output_type": "stream",
     "text": [
      "IT IS NOT A PRIME\n"
     ]
    }
   ],
   "source": [
    "# No GPT\n",
    "def is_prime_number(number):\n",
    "  if number <= 1:\n",
    "    return False\n",
    "  elif number <= 3:\n",
    "    return True\n",
    "  elif number % 2 == 0 or number % 3 == 0:\n",
    "    return False\n",
    "\n",
    "  start = 5 # start from 5 because 1-4 has checked in the condition before\n",
    "\n",
    "  for i in range(start, number):\n",
    "    if(number % i == 0): # check if number can divided by others number\n",
    "      return False\n",
    "  return True\n",
    "\n",
    "input_number = int(input(\"Enter the number: \"))\n",
    "\n",
    "if is_prime_number(input_number):\n",
    "  print(\"IT IS A PRIME\")\n",
    "else:\n",
    "  print(\"IT IS NOT A PRIME\")\n"
   ]
  },
  {
   "cell_type": "markdown",
   "metadata": {},
   "source": [
    "# TWR (The Witch's Riddle)"
   ]
  },
  {
   "cell_type": "code",
   "execution_count": 4,
   "metadata": {},
   "outputs": [
    {
     "name": "stdout",
     "output_type": "stream",
     "text": [
      "6 2 4\n"
     ]
    }
   ],
   "source": [
    "# No GPT\n",
    "\n",
    "numbers = list(map(int, input(\"Enter seven numbers divided by space : \").split()))\n",
    "jumps = int(input(\"Enter the amounts of cats will jump from the back to front : \"))\n",
    "times = int(input(\"Enter how many times of jumps :\"))\n",
    "wanted_indexes = list(map(int, input(\"Enter the indexes you want to print : \").split()))\n",
    "result = []\n",
    "\n",
    "for i in range(times):\n",
    "  numbers = numbers[-jumps:] + numbers[:-jumps]\n",
    "\n",
    "\n",
    "for index in wanted_indexes:\n",
    "  result.append(str(numbers[index])) # append wanted index to result and convert to string so the list can  be join\n",
    "\n",
    "print(\" \".join(result))"
   ]
  }
 ],
 "metadata": {
  "kernelspec": {
   "display_name": "Python 3",
   "language": "python",
   "name": "python3"
  },
  "language_info": {
   "codemirror_mode": {
    "name": "ipython",
    "version": 3
   },
   "file_extension": ".py",
   "mimetype": "text/x-python",
   "name": "python",
   "nbconvert_exporter": "python",
   "pygments_lexer": "ipython3",
   "version": "3.10.12"
  }
 },
 "nbformat": 4,
 "nbformat_minor": 2
}
