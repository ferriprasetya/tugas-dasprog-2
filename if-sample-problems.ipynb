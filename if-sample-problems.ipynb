{
 "cells": [
  {
   "cell_type": "markdown",
   "metadata": {},
   "source": [
    "# 1. Count student discount"
   ]
  },
  {
   "cell_type": "code",
   "execution_count": 8,
   "metadata": {},
   "outputs": [
    {
     "name": "stdout",
     "output_type": "stream",
     "text": [
      "Total purchases: $ 24.9\n",
      "Sales tax (5%): $ 1.25\n",
      "Total: $ 26.15\n"
     ]
    }
   ],
   "source": [
    "purchase_total = float(input(\"Enter the total purchase amount: \"))\n",
    "is_student = input(\"Is the purchaser a student? (yes/no): \").lower() == \"yes\"\n",
    "\n",
    "discount_rate = 0.2 if is_student else 0\n",
    "discount_total = purchase_total * discount_rate\n",
    "discounted_total = purchase_total * (1 - discount_rate)\n",
    "sales_tax = round(discounted_total * 0.05, 2)\n",
    "total = discounted_total + sales_tax\n",
    "\n",
    "print(\"Total purchases: $\", purchase_total)\n",
    "\n",
    "if is_student:\n",
    "  print(f\"Student's discount (20%): $ {discount_total:.2f}\")\n",
    "  print(f\"Discounted total: $ {discounted_total:.2f}\")\n",
    "\n",
    "print(f\"Sales tax (5%): $ {sales_tax:.2f}\")\n",
    "print(f\"Total: $ {total:.2f}\")\n"
   ]
  },
  {
   "cell_type": "markdown",
   "metadata": {},
   "source": [
    "# 2. Calculates BMI"
   ]
  },
  {
   "cell_type": "code",
   "execution_count": 14,
   "metadata": {},
   "outputs": [
    {
     "name": "stdout",
     "output_type": "stream",
     "text": [
      "Your BMI is: 19.4\n",
      "Your weight status is: Normal\n"
     ]
    }
   ],
   "source": [
    "def calculate_bmi(weight_lb, height_in):\n",
    "  bmi = (703 * weight_lb) / (height_in ** 2)\n",
    "  return round(bmi, 1)\n",
    "\n",
    "def categorize_bmi(bmi):\n",
    "  if bmi < 18.5:\n",
    "    return \"Underweight\"\n",
    "  elif bmi >= 18.5 and bmi <= 24.9:\n",
    "    return \"Normal\"\n",
    "  elif bmi >= 25.0 and bmi <= 29.9:\n",
    "    return \"Overweight\"\n",
    "  else:\n",
    "    return \"Obese\"\n",
    "\n",
    "weight_lb = float(input(\"Enter your weight in pounds: \"))\n",
    "height_in = float(input(\"Enter your height in inches: \"))\n",
    "\n",
    "bmi = calculate_bmi(weight_lb, height_in)\n",
    "category = categorize_bmi(bmi)\n",
    "\n",
    "print(\"Your BMI is:\", bmi)\n",
    "print(\"Your weight status is:\", category)\n"
   ]
  },
  {
   "cell_type": "markdown",
   "metadata": {},
   "source": [
    "# 3. Unix Operation"
   ]
  },
  {
   "cell_type": "code",
   "execution_count": 12,
   "metadata": {},
   "outputs": [
    {
     "name": "stdout",
     "output_type": "stream",
     "text": [
      "Testing &&\n",
      "fun2 executed\n",
      "Test of && complete\n",
      "Testing ||\n",
      "Test of || complete\n"
     ]
    }
   ],
   "source": [
    "def fun1():\n",
    "    \"\"\"Prompt the user to enter 'T' for true or 'F' for false, returning 1 for true and 0 for false.\"\"\"\n",
    "    user_input = input(\"Enter 'T' for true or 'F' for false: \").upper()\n",
    "    if user_input == 'T':\n",
    "        return 1\n",
    "    else:\n",
    "        return 0\n",
    "\n",
    "def fun2():\n",
    "    \"\"\"Display 'fun2 executed' and return 1.\"\"\"\n",
    "    print(\"fun2 executed\")\n",
    "    return 1\n",
    "\n",
    "def main():\n",
    "    # Testing &&\n",
    "    print(\"Testing &&\")\n",
    "    if fun1() and fun2():\n",
    "        print(\"Test of && complete\")\n",
    "    \n",
    "    # Testing ||\n",
    "    print(\"Testing ||\")\n",
    "    if fun1() or fun2():\n",
    "        print(\"Test of || complete\")\n",
    "\n",
    "# Run the main function\n",
    "main()\n"
   ]
  },
  {
   "cell_type": "markdown",
   "metadata": {},
   "source": [
    "# 4. Report contents of a compressed-gas cylinder"
   ]
  },
  {
   "cell_type": "code",
   "execution_count": 11,
   "metadata": {},
   "outputs": [
    {
     "name": "stdout",
     "output_type": "stream",
     "text": [
      "Contents oxygen\n"
     ]
    }
   ],
   "source": [
    "character = input('input a character representing the observed color of the cylinder: ')\n",
    "\n",
    "match character.lower():\n",
    "  case 'o':\n",
    "    cylinder = 'ammonia'\n",
    "  case 'b':\n",
    "    cylinder = 'carbon monoxide'\n",
    "  case 'y':\n",
    "    cylinder = 'hydrogen'\n",
    "  case 'g':\n",
    "    cylinder = 'oxygen'\n",
    "  case _:\n",
    "    cylinder = 'unknown'\n",
    "\n",
    "print(f\"Contents {cylinder}\")"
   ]
  },
  {
   "cell_type": "markdown",
   "metadata": {},
   "source": [
    "# 5. Calculate internet service provider charge "
   ]
  },
  {
   "cell_type": "code",
   "execution_count": 25,
   "metadata": {},
   "outputs": [
    {
     "name": "stdout",
     "output_type": "stream",
     "text": [
      "Charges: $1000.00\n"
     ]
    }
   ],
   "source": [
    "def calculate_charges(data_usage):\n",
    "  if(data_usage > 10.0):\n",
    "    return 2000\n",
    "  elif(5 < data_usage <= 10):\n",
    "    return 1500\n",
    "  elif(2 < data_usage <= 5):\n",
    "    return 1000\n",
    "  elif (1 < data_usage <= 2):\n",
    "    return 500\n",
    "  elif (0 < data_usage <= 1):\n",
    "    return 250\n",
    "  else:\n",
    "    return \"Invalid data usage.\"\n",
    "\n",
    "data_usage = float(input(\"Enter the data usage in GBs: \"))\n",
    "\n",
    "charges = calculate_charges(data_usage)\n",
    "print(charges if isinstance(charges, str) else f\"Charges: ${charges:.2f}\" )"
   ]
  },
  {
   "cell_type": "markdown",
   "metadata": {},
   "source": [
    "# 6. Axis and quadran prediction"
   ]
  },
  {
   "cell_type": "code",
   "execution_count": 27,
   "metadata": {},
   "outputs": [
    {
     "name": "stdout",
     "output_type": "stream",
     "text": [
      "( 0.0 , 4.8 ) is in the y-axis\n"
     ]
    }
   ],
   "source": [
    "def determine_quadrant_or_axis(x, y):\n",
    "  if x == 0 and y == 0:\n",
    "    return \"the origin\"\n",
    "  elif x == 0:\n",
    "    return \"the y-axis\"\n",
    "  elif y == 0:\n",
    "    return \"the x-axis\"\n",
    "  elif x > 0 and y > 0:\n",
    "    return \"quadrant I\"\n",
    "  elif x < 0 and y > 0:\n",
    "    return \"quadrant II\"\n",
    "  elif x < 0 and y < 0:\n",
    "    return \"quadrant III\"\n",
    "  else:\n",
    "    return \"quadrant IV\"\n",
    "\n",
    "x = float(input(\"Enter the x-coordinate: \"))\n",
    "y = float(input(\"Enter the y-coordinate: \"))\n",
    "\n",
    "result = determine_quadrant_or_axis(x, y)\n",
    "\n",
    "print(\"(\", x, \",\", y, \") is in\", result)\n"
   ]
  },
  {
   "cell_type": "markdown",
   "metadata": {},
   "source": [
    "# 7. Determine the day number in a year of input date"
   ]
  },
  {
   "cell_type": "code",
   "execution_count": 14,
   "metadata": {},
   "outputs": [
    {
     "name": "stdout",
     "output_type": "stream",
     "text": [
      "The day number is: 61\n"
     ]
    }
   ],
   "source": [
    "def leap(year):\n",
    "  if (year % 4 == 0 and year % 100 != 0) or year % 400 == 0:\n",
    "    return 1\n",
    "  else:\n",
    "    return 0\n",
    "\n",
    "def day_of_year(month, day, year):\n",
    "  days_in_month = [31, 28, 31, 30, 31, 30, 31, 31, 30, 31, 30, 31]\n",
    "  if leap(year):\n",
    "    days_in_month[1] = 29\n",
    "\n",
    "  days_so_far = 0\n",
    "  for i in range(month - 1):\n",
    "    days_so_far += days_in_month[i]\n",
    "\n",
    "  return days_so_far + day\n",
    "\n",
    "\n",
    "month = int(input(\"Enter the month (1-12): \"))\n",
    "day = int(input(\"Enter the day (1-31): \"))\n",
    "year = int(input(\"Enter the year: \"))\n",
    "\n",
    "day_number = day_of_year(month, day, year)\n",
    "print(\"The day number is:\", day_number)\n"
   ]
  },
  {
   "cell_type": "markdown",
   "metadata": {},
   "source": [
    "# 8. Calculate when vehicle must be services"
   ]
  },
  {
   "cell_type": "code",
   "execution_count": 33,
   "metadata": {},
   "outputs": [
    {
     "name": "stdout",
     "output_type": "stream",
     "text": [
      "(1) First Free Service\n",
      "(2) Second Free Service\n",
      "Vehicle must be serviced.\n"
     ]
    }
   ],
   "source": [
    "def determine_service_message(free_service_number, miles):\n",
    "  if free_service_number == 1 and 1500 < miles <= 3000:\n",
    "    return \"Vehicle must be serviced.\"\n",
    "  elif free_service_number == 2 and 3000 < miles <= 4500:\n",
    "    return \"Vehicle must be serviced.\"\n",
    "  else:\n",
    "    return \"Vehicle is not required for free service.\"\n",
    "\n",
    "print(\"(1) First Free Service\")\n",
    "print(\"(2) Second Free Service\")\n",
    "\n",
    "free_service_number = int(input(\"Enter the Free Service number>> \"))\n",
    "miles = int(input(\"Enter number of Miles>> \"))\n",
    "\n",
    "message = determine_service_message(free_service_number, miles)\n",
    "print(message)\n"
   ]
  },
  {
   "cell_type": "markdown",
   "metadata": {},
   "source": [
    "# 9. Calculate chatflow rates"
   ]
  },
  {
   "cell_type": "code",
   "execution_count": 2,
   "metadata": {},
   "outputs": [
    {
     "name": "stdout",
     "output_type": "stream",
     "text": [
      "Weekday minutes: 620\n",
      "Night minutes: 20\n",
      "Weekend minutes: 20\n",
      "Total minutes: 660\n",
      "Pre-tax bill: $0.48\n",
      "Taxes: $0.03\n",
      "Total bill: $0.51\n"
     ]
    }
   ],
   "source": [
    "weekday_minutes = int(input(\"Enter the number of weekday minutes used: \"))\n",
    "night_minutes = int(input(\"Enter the number of night minutes used: \"))\n",
    "weekend_minutes = int(input(\"Enter the number of weekend minutes used: \"))\n",
    "\n",
    "flat_rate = 39.99\n",
    "included_minute = 600\n",
    "extra_minute_rate = 0.40\n",
    "total_minutes = weekday_minutes + night_minutes + weekend_minutes\n",
    "\n",
    "if(weekday_minutes > included_minute):\n",
    "  additional_rate= (weekday_minutes - included_minute) * extra_minute_rate\n",
    "\n",
    "total_rate = flat_rate + additional_rate\n",
    "taxes = total_rate * 0.0525\n",
    "\n",
    "total_rates_after_taxes = total_rate + taxes\n",
    "\n",
    "print(\"Weekday minutes:\", weekday_minutes)\n",
    "print(\"Night minutes:\", night_minutes)\n",
    "print(\"Weekend minutes:\", weekend_minutes)\n",
    "print(\"Total minutes:\", total_minutes)\n",
    "\n",
    "print(f\"Pre-tax bill: ${(total_rate / 100):.2f}\")\n",
    "print(f\"Taxes: ${(taxes / 100):.2f}\")\n",
    "print(f\"Total bill: ${(total_rates_after_taxes / 100):.2f}\")\n"
   ]
  },
  {
   "cell_type": "markdown",
   "metadata": {},
   "source": [
    "# 10. Count Baking Time"
   ]
  },
  {
   "cell_type": "code",
   "execution_count": 26,
   "metadata": {},
   "outputs": [
    {
     "name": "stdout",
     "output_type": "stream",
     "text": [
      "Bread size: 5\n",
      "Primary kneading for 15.0 minutes.\n",
      "Primary rising for 60.0 minutes.\n",
      "Secondary kneading for 18.0 minutes.\n",
      "Secondary rising for 20.0 minutes.\n",
      "Loaf shaping for 0.033 minutes.\n",
      "Final rising for 75.0 minutes.\n",
      "Baking for 45.0 minutes.\n",
      "Cooling for 30.0 minutes.\n"
     ]
    }
   ],
   "source": [
    "def display_instructions(step, time):\n",
    "    # Display the baking step and its duration.# \n",
    "    print(f\"{step} for {time} minutes.\")\n",
    "\n",
    "def compute_baking_time(bread_type, is_double_loaf, bread_size):\n",
    "    # Compute the baking time based on bread type and loaf size.# \n",
    "    if bread_type == 'W':\n",
    "        # White Bread timings in minutes\n",
    "        timings = {\n",
    "            'Primary kneading': 15,\n",
    "            'Primary rising': 60,\n",
    "            'Secondary kneading': 18,\n",
    "            'Secondary rising': 20,\n",
    "            'Loaf shaping': 0.033,  # 2 seconds in minutes\n",
    "            'Final rising': 75,\n",
    "            'Baking': 45,\n",
    "            'Cooling': 30\n",
    "        }\n",
    "    else:\n",
    "        # Sweet Bread timings in minutes\n",
    "        timings = {\n",
    "            'Primary kneading': 20,\n",
    "            'Primary rising': 60,\n",
    "            'Secondary kneading': 33,\n",
    "            'Secondary rising': 30,\n",
    "            'Loaf shaping': 0.033,  # 2 seconds in minutes\n",
    "            'Final rising': 75,\n",
    "            'Baking': 35,\n",
    "            'Cooling': 30\n",
    "        }\n",
    "    \n",
    "    if(bread_size):\n",
    "        timings = dict(map(lambda x: (x[0], x[1] * bread_size/5), timings.items()))\n",
    "        # print(\"timings\", timings)\n",
    "\n",
    "    # If loaf size is double, increase the baking time by 50%\n",
    "    if is_double_loaf:\n",
    "        timings['Baking'] *= 1.5\n",
    "    \n",
    "    return timings\n",
    "\n",
    "bread_type = input(\"Enter the type of bread (W for White, S for Sweet): \").upper()\n",
    "bread_size = int(input(\"Enter bread size (1-5): \"))\n",
    "is_double_loaf = input(\"Is the loaf size double? (Y/N): \").upper() == 'Y'\n",
    "is_manual_baking = input(\"Is the baking manual? (Y/N): \").upper() == 'Y'\n",
    "\n",
    "# Calculate baking times based on user input\n",
    "timings = compute_baking_time(bread_type, is_double_loaf, bread_size)\n",
    "\n",
    "print(f\"Bread size: {bread_size}\")\n",
    "\n",
    "# Display each step to the user\n",
    "for step, time in timings.items():\n",
    "    display_instructions(step, time)\n",
    "    # Stop after loaf shaping if baking is manual\n",
    "    if is_manual_baking and step == 'Loaf shaping':\n",
    "        print(\"Please remove the dough for manual baking.\")\n",
    "        break"
   ]
  },
  {
   "cell_type": "markdown",
   "metadata": {},
   "source": [
    "# 13. Substance identifier by boiling point"
   ]
  },
  {
   "cell_type": "code",
   "execution_count": 8,
   "metadata": {},
   "outputs": [
    {
     "name": "stdout",
     "output_type": "stream",
     "text": [
      "Substance Mercury\n"
     ]
    }
   ],
   "source": [
    "def within_x_percent(ref, data, x):\n",
    "    \"\"\"Check if data is within x% of the reference value ref.\"\"\"\n",
    "    lower_bound = ref - (x / 100) * ref\n",
    "    upper_bound = ref + (x / 100) * ref\n",
    "    return lower_bound <= data <= upper_bound\n",
    "\n",
    "def identify_substance(boiling_point):\n",
    "    \"\"\"Identify the substance based on its boiling point within a 5% range.\"\"\"\n",
    "    substances = {\n",
    "        \"Water\": 100,\n",
    "        \"Mercury\": 357,\n",
    "        \"Copper\": 1187,\n",
    "        \"Silver\": 2193,\n",
    "        \"Gold\": 2660\n",
    "    }\n",
    "    \n",
    "    for substance, normal_boiling_point in substances.items():\n",
    "        if within_x_percent(normal_boiling_point, boiling_point, 5):\n",
    "            return substance\n",
    "    \n",
    "    return \"Substance unknown\"\n",
    "\n",
    "# Prompt the user for the observed boiling point\n",
    "observed_boiling_point = float(input(\"Enter the observed boiling point in °C: \"))\n",
    "\n",
    "# Identify the substance\n",
    "substance = identify_substance(observed_boiling_point)\n",
    "print(f\"Substance {substance}\")\n"
   ]
  }
 ],
 "metadata": {
  "kernelspec": {
   "display_name": "Python 3",
   "language": "python",
   "name": "python3"
  },
  "language_info": {
   "codemirror_mode": {
    "name": "ipython",
    "version": 3
   },
   "file_extension": ".py",
   "mimetype": "text/x-python",
   "name": "python",
   "nbconvert_exporter": "python",
   "pygments_lexer": "ipython3",
   "version": "3.10.12"
  }
 },
 "nbformat": 4,
 "nbformat_minor": 2
}
